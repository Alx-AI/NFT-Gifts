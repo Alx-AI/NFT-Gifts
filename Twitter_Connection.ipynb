{
 "cells": [
  {
   "cell_type": "code",
   "execution_count": 1,
   "id": "a13ab3e3",
   "metadata": {},
   "outputs": [],
   "source": [
    "import nest_asyncio\n",
    "import pandas as pd\n",
    "pd.set_option('display.max_columns', None)\n",
    "\n",
    "nest_asyncio.apply()"
   ]
  },
  {
   "cell_type": "code",
   "execution_count": 2,
   "id": "a5bced29",
   "metadata": {},
   "outputs": [],
   "source": [
    "import twint\n",
    "\n",
    "# Configure\n",
    "c = twint.Config()\n",
    "#c.Limit = 20\n",
    "#c.Search = \"#blessed\"\n",
    "c.Pandas = True\n",
    "c.Following = \"TheHeroShep\""
   ]
  },
  {
   "cell_type": "code",
   "execution_count": null,
   "id": "e40cb123",
   "metadata": {},
   "outputs": [
    {
     "name": "stderr",
     "output_type": "stream",
     "text": [
      "CRITICAL:root:twint.run:Twint:Feed:noData'globalObjects'\n",
      "sleeping for 1.0 secs\n",
      "CRITICAL:root:twint.run:Twint:Feed:noData'globalObjects'\n",
      "sleeping for 8.0 secs\n",
      "CRITICAL:root:twint.run:Twint:Feed:noData'globalObjects'\n",
      "sleeping for 27.0 secs\n"
     ]
    }
   ],
   "source": [
    "# Run\n",
    "twint.run.Search(c)"
   ]
  },
  {
   "cell_type": "code",
   "execution_count": null,
   "id": "9c3eb61d",
   "metadata": {},
   "outputs": [],
   "source": [
    "Tweets_df = twint.storage.panda.Tweets_df"
   ]
  },
  {
   "cell_type": "code",
   "execution_count": null,
   "id": "c11117ed",
   "metadata": {},
   "outputs": [],
   "source": [
    "Tweets_df.columns"
   ]
  },
  {
   "cell_type": "code",
   "execution_count": null,
   "id": "7071d139",
   "metadata": {},
   "outputs": [],
   "source": [
    "Tweets_df['user_rt']"
   ]
  },
  {
   "cell_type": "code",
   "execution_count": null,
   "id": "39ec60dc",
   "metadata": {},
   "outputs": [],
   "source": [
    "Tweets_df"
   ]
  },
  {
   "cell_type": "code",
   "execution_count": null,
   "id": "8ff0efde",
   "metadata": {},
   "outputs": [],
   "source": []
  }
 ],
 "metadata": {
  "kernelspec": {
   "display_name": "Python 3",
   "language": "python",
   "name": "python3"
  },
  "language_info": {
   "codemirror_mode": {
    "name": "ipython",
    "version": 3
   },
   "file_extension": ".py",
   "mimetype": "text/x-python",
   "name": "python",
   "nbconvert_exporter": "python",
   "pygments_lexer": "ipython3",
   "version": "3.8.8"
  }
 },
 "nbformat": 4,
 "nbformat_minor": 5
}
