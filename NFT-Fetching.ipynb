{
 "cells": [
  {
   "cell_type": "code",
   "execution_count": 8,
   "id": "e4d3556f",
   "metadata": {},
   "outputs": [],
   "source": [
    "from graphene import ObjectType, String, Boolean, ID, Field, Int,List , Float, JSONString\n",
    "import requests\n",
    "import json\n",
    "import pandas as pd\n",
    "from random import randrange\n",
    "\n",
    "# gets all NFTs for a given address\n",
    "def get_address(address):\n",
    "    key = \"SDHZ9FPMUK55TY5KAU2FBS222DKPIITD65\"\n",
    "    api_url = \"https://api.etherscan.io/api?module=account&action=tokennfttx&address=\" + address + \"&startblock=0&endblock=999999999&sort=asc&apikey=\" + key\n",
    "\n",
    "    x = requests.get(api_url)\n",
    "    alltransactions = x.json().get(\"result\")\n",
    "    contracts = []\n",
    "    ids = []\n",
    "    print(\"all\", address, alltransactions)\n",
    "    for t in alltransactions:\n",
    "\n",
    "        if t.get(\"to\") == address:\n",
    "            # print(t)\n",
    "            contract_address = t.get(\"contractAddress\")\n",
    "            token_id = t.get(\"tokenID\")\n",
    "            # print(contract_address, token_id)\n",
    "            contracts.append(contract_address)\n",
    "            ids.append(int(token_id))\n",
    "    return contracts, ids"
   ]
  },
  {
   "cell_type": "code",
   "execution_count": 9,
   "id": "1d21f014",
   "metadata": {},
   "outputs": [
    {
     "name": "stdout",
     "output_type": "stream",
     "text": [
      "all 0x41D68726a1be12FEdcfeB25c7FF72f555E65dC3c [{'blockNumber': '12313542', 'timeStamp': '1619408322', 'hash': '0x99691285dbb957aa0e968b94699b4a812c8763c0d18b6de902a3e56c1579f8d4', 'nonce': '434', 'blockHash': '0x4cf4629dfa0f1d708a17ddcd3b05ac48b1010f289d466baa6d08a49390240595', 'from': '0xfccb96245ece8c0c0ba80992a5719cba1e2f504f', 'contractAddress': '0x2c61ce5d9382e26e217535695474bc2a49d13bfe', 'to': '0x41d68726a1be12fedcfeb25c7ff72f555e65dc3c', 'tokenID': '28', 'tokenName': 'Savage Dogs', 'tokenSymbol': 'SD', 'tokenDecimal': '0', 'transactionIndex': '128', 'gas': '364276', 'gasPrice': '51000000000', 'gasUsed': '334276', 'cumulativeGasUsed': '10435830', 'input': 'deprecated', 'confirmations': '1092736'}, {'blockNumber': '12897772', 'timeStamp': '1627247668', 'hash': '0xe23cb064b2f039a98c7047dfd3bd6723da9f23704f012bcc66cb2796f9678bfd', 'nonce': '14', 'blockHash': '0xd4967d62ca421c7b19d710d04ff60fd7dc5c857b9620206cde5abb264d5712d4', 'from': '0x0000000000000000000000000000000000000000', 'contractAddress': '0x9a47fb648c2d7c0c45b67db946b1af199055ef87', 'to': '0x41d68726a1be12fedcfeb25c7ff72f555e65dc3c', 'tokenID': '3', 'tokenName': 'The 52', 'tokenSymbol': '52', 'tokenDecimal': '0', 'transactionIndex': '169', 'gas': '313754', 'gasPrice': '17000000000', 'gasUsed': '313754', 'cumulativeGasUsed': '12893770', 'input': 'deprecated', 'confirmations': '508506'}, {'blockNumber': '12942570', 'timeStamp': '1627861084', 'hash': '0xfb7d276181763c304c6565b3bc3d3655864ddf8cf5ac87b909204b3d31eb4eee', 'nonce': '17', 'blockHash': '0x9aec1fe7983184996fd5bded34e608abf33022a357f3087f876c53a042644ab8', 'from': '0x0000000000000000000000000000000000000000', 'contractAddress': '0x9a47fb648c2d7c0c45b67db946b1af199055ef87', 'to': '0x41d68726a1be12fedcfeb25c7ff72f555e65dc3c', 'tokenID': '4', 'tokenName': 'The 52', 'tokenSymbol': '52', 'tokenDecimal': '0', 'transactionIndex': '124', 'gas': '302254', 'gasPrice': '36000000000', 'gasUsed': '302254', 'cumulativeGasUsed': '12160955', 'input': 'deprecated', 'confirmations': '463708'}, {'blockNumber': '12987405', 'timeStamp': '1628465128', 'hash': '0x505713a2808bdc185241bf88430b660d34885109ed4b5912a2b4d16f1aa75955', 'nonce': '19', 'blockHash': '0xad7d0ed57bc112805f0cb8c51d19fea334b16386d884d640d699d4bb57ff0035', 'from': '0x0000000000000000000000000000000000000000', 'contractAddress': '0x9a47fb648c2d7c0c45b67db946b1af199055ef87', 'to': '0x41d68726a1be12fedcfeb25c7ff72f555e65dc3c', 'tokenID': '5', 'tokenName': 'The 52', 'tokenSymbol': '52', 'tokenDecimal': '0', 'transactionIndex': '240', 'gas': '302254', 'gasPrice': '32284940003', 'gasUsed': '302254', 'cumulativeGasUsed': '22851061', 'input': 'deprecated', 'confirmations': '418873'}, {'blockNumber': '13031984', 'timeStamp': '1629059759', 'hash': '0xd3c81523b6086c2acf655090b4b0055cb1ac3b1aa1bc05914247059e2566985c', 'nonce': '20', 'blockHash': '0x0fb35fa76714c6dc7ddfefe486224dacd854ba204e53b4f868ed3305b8d73bb8', 'from': '0x0000000000000000000000000000000000000000', 'contractAddress': '0x9a47fb648c2d7c0c45b67db946b1af199055ef87', 'to': '0x41d68726a1be12fedcfeb25c7ff72f555e65dc3c', 'tokenID': '6', 'tokenName': 'The 52', 'tokenSymbol': '52', 'tokenDecimal': '0', 'transactionIndex': '59', 'gas': '302254', 'gasPrice': '44662770185', 'gasUsed': '302254', 'cumulativeGasUsed': '7408829', 'input': 'deprecated', 'confirmations': '374294'}, {'blockNumber': '13032292', 'timeStamp': '1629063967', 'hash': '0x08f1e63e85f0646a15bad05cfe7d66b2014ee34444d758d63883ca50d9f911c0', 'nonce': '21', 'blockHash': '0x160d7f429a18b767c2f1dffbc23667bf5f76ce4b7df03ea15f5981fabd7b0932', 'from': '0x0000000000000000000000000000000000000000', 'contractAddress': '0x9a47fb648c2d7c0c45b67db946b1af199055ef87', 'to': '0x41d68726a1be12fedcfeb25c7ff72f555e65dc3c', 'tokenID': '11', 'tokenName': 'The 52', 'tokenSymbol': '52', 'tokenDecimal': '0', 'transactionIndex': '158', 'gas': '302254', 'gasPrice': '46287798430', 'gasUsed': '302254', 'cumulativeGasUsed': '9094450', 'input': 'deprecated', 'confirmations': '373986'}, {'blockNumber': '13032329', 'timeStamp': '1629064440', 'hash': '0xac5d882197b6646c88963354669373cbf79653e582945b5df19d9f9c634cfd38', 'nonce': '22', 'blockHash': '0x5f8d6be0a91dac0926e5f26532cd26b9f4a4628c7cf4a2a7da39ede83c1c8d30', 'from': '0x41d68726a1be12fedcfeb25c7ff72f555e65dc3c', 'contractAddress': '0x9a47fb648c2d7c0c45b67db946b1af199055ef87', 'to': '0x0000000000000000000000000000000000000000', 'tokenID': '11', 'tokenName': 'The 52', 'tokenSymbol': '52', 'tokenDecimal': '0', 'transactionIndex': '59', 'gas': '85806', 'gasPrice': '45743632586', 'gasUsed': '68645', 'cumulativeGasUsed': '3040974', 'input': 'deprecated', 'confirmations': '373949'}, {'blockNumber': '13075869', 'timeStamp': '1629645441', 'hash': '0x55891b128b1f45c15577f058b47883de90c5596cf46b51f710ba7374bcd7286f', 'nonce': '23', 'blockHash': '0xcfdbcc09b5296def14ed2f2813ade43c6e9be2aafa15e17590396bc63a933169', 'from': '0x41d68726a1be12fedcfeb25c7ff72f555e65dc3c', 'contractAddress': '0x2c61ce5d9382e26e217535695474bc2a49d13bfe', 'to': '0x5d4df391f56f0d8f854434e52a15b10b6501129f', 'tokenID': '28', 'tokenName': 'Savage Dogs', 'tokenSymbol': 'SD', 'tokenDecimal': '0', 'transactionIndex': '174', 'gas': '118361', 'gasPrice': '74519775606', 'gasUsed': '103961', 'cumulativeGasUsed': '11101646', 'input': 'deprecated', 'confirmations': '330409'}, {'blockNumber': '13076095', 'timeStamp': '1629648569', 'hash': '0x3192b2a4d8f9be04ca7f13b2df67e91244bb8fa15ed9ac26315124aab8a500a9', 'nonce': '24', 'blockHash': '0xdffffde5288845e7d771a853b918f34f7b4ab7480a4f374dcea3a6bbbec87b00', 'from': '0x0000000000000000000000000000000000000000', 'contractAddress': '0x9a47fb648c2d7c0c45b67db946b1af199055ef87', 'to': '0x41d68726a1be12fedcfeb25c7ff72f555e65dc3c', 'tokenID': '14', 'tokenName': 'The 52', 'tokenSymbol': '52', 'tokenDecimal': '0', 'transactionIndex': '150', 'gas': '302254', 'gasPrice': '50075745918', 'gasUsed': '302254', 'cumulativeGasUsed': '13971773', 'input': 'deprecated', 'confirmations': '330183'}, {'blockNumber': '13126041', 'timeStamp': '1630315461', 'hash': '0x8517c475aeed5d5f12e1f63fbbe57f0d6eed07ecede9c94407d7a025235d6bc3', 'nonce': '25', 'blockHash': '0xc012c0114e7ccfd41bf0ed5ed329785814022e44e6cb6e9126a777d938d8ee28', 'from': '0x0000000000000000000000000000000000000000', 'contractAddress': '0x9a47fb648c2d7c0c45b67db946b1af199055ef87', 'to': '0x41d68726a1be12fedcfeb25c7ff72f555e65dc3c', 'tokenID': '20', 'tokenName': 'The 52', 'tokenSymbol': '52', 'tokenDecimal': '0', 'transactionIndex': '160', 'gas': '302254', 'gasPrice': '70423305049', 'gasUsed': '302254', 'cumulativeGasUsed': '13420927', 'input': 'deprecated', 'confirmations': '280237'}, {'blockNumber': '13126962', 'timeStamp': '1630327656', 'hash': '0x5dbec80214b5dca55d6992a358f338b570c6bbee96b1bb0ec69e6ea80749eeb7', 'nonce': '19', 'blockHash': '0xa8cb0426bb4412e388a20bbc87a125bc3627d980b36e69cdb3ab8477eee31d24', 'from': '0x5d4df391f56f0d8f854434e52a15b10b6501129f', 'contractAddress': '0x2c61ce5d9382e26e217535695474bc2a49d13bfe', 'to': '0x41d68726a1be12fedcfeb25c7ff72f555e65dc3c', 'tokenID': '28', 'tokenName': 'Savage Dogs', 'tokenSymbol': 'SD', 'tokenDecimal': '0', 'transactionIndex': '188', 'gas': '639241', 'gasPrice': '82568847727', 'gasUsed': '533205', 'cumulativeGasUsed': '21476130', 'input': 'deprecated', 'confirmations': '279316'}, {'blockNumber': '13126962', 'timeStamp': '1630327656', 'hash': '0x5dbec80214b5dca55d6992a358f338b570c6bbee96b1bb0ec69e6ea80749eeb7', 'nonce': '19', 'blockHash': '0xa8cb0426bb4412e388a20bbc87a125bc3627d980b36e69cdb3ab8477eee31d24', 'from': '0x5d4df391f56f0d8f854434e52a15b10b6501129f', 'contractAddress': '0xa32422dfb5bf85b2084ef299992903eb93ff52b0', 'to': '0x41d68726a1be12fedcfeb25c7ff72f555e65dc3c', 'tokenID': '1004', 'tokenName': 'Animonkeys', 'tokenSymbol': 'ANMK', 'tokenDecimal': '0', 'transactionIndex': '188', 'gas': '639241', 'gasPrice': '82568847727', 'gasUsed': '533205', 'cumulativeGasUsed': '21476130', 'input': 'deprecated', 'confirmations': '279316'}, {'blockNumber': '13126962', 'timeStamp': '1630327656', 'hash': '0x5dbec80214b5dca55d6992a358f338b570c6bbee96b1bb0ec69e6ea80749eeb7', 'nonce': '19', 'blockHash': '0xa8cb0426bb4412e388a20bbc87a125bc3627d980b36e69cdb3ab8477eee31d24', 'from': '0x5d4df391f56f0d8f854434e52a15b10b6501129f', 'contractAddress': '0xa32422dfb5bf85b2084ef299992903eb93ff52b0', 'to': '0x41d68726a1be12fedcfeb25c7ff72f555e65dc3c', 'tokenID': '1238', 'tokenName': 'Animonkeys', 'tokenSymbol': 'ANMK', 'tokenDecimal': '0', 'transactionIndex': '188', 'gas': '639241', 'gasPrice': '82568847727', 'gasUsed': '533205', 'cumulativeGasUsed': '21476130', 'input': 'deprecated', 'confirmations': '279316'}, {'blockNumber': '13126962', 'timeStamp': '1630327656', 'hash': '0x5dbec80214b5dca55d6992a358f338b570c6bbee96b1bb0ec69e6ea80749eeb7', 'nonce': '19', 'blockHash': '0xa8cb0426bb4412e388a20bbc87a125bc3627d980b36e69cdb3ab8477eee31d24', 'from': '0x5d4df391f56f0d8f854434e52a15b10b6501129f', 'contractAddress': '0x18df6c571f6fe9283b87f910e41dc5c8b77b7da5', 'to': '0x41d68726a1be12fedcfeb25c7ff72f555e65dc3c', 'tokenID': '488', 'tokenName': 'Animetas', 'tokenSymbol': 'ANMT', 'tokenDecimal': '0', 'transactionIndex': '188', 'gas': '639241', 'gasPrice': '82568847727', 'gasUsed': '533205', 'cumulativeGasUsed': '21476130', 'input': 'deprecated', 'confirmations': '279316'}, {'blockNumber': '13238524', 'timeStamp': '1631818461', 'hash': '0xfc20907648d51efe870042c459025ccc6e266416405800e0d26551da3075e3fd', 'nonce': '29', 'blockHash': '0xe9b8ae84dfdce2578bc208f7995cfee29dbbc4e3a9732bdb1d119c2785848e46', 'from': '0x41d68726a1be12fedcfeb25c7ff72f555e65dc3c', 'contractAddress': '0x18df6c571f6fe9283b87f910e41dc5c8b77b7da5', 'to': '0xa8d3f65b6e2922fed1430b77ac2b557e1fa8da4a', 'tokenID': '488', 'tokenName': 'Animetas', 'tokenSymbol': 'ANMT', 'tokenDecimal': '0', 'transactionIndex': '72', 'gas': '151119', 'gasPrice': '72263512670', 'gasUsed': '140385', 'cumulativeGasUsed': '5926010', 'input': 'deprecated', 'confirmations': '167754'}, {'blockNumber': '13306452', 'timeStamp': '1632726985', 'hash': '0x8585711c0de9fc6dc0c371c7b16c420b7821abb91ff55170eb44e3638bfa47b5', 'nonce': '722', 'blockHash': '0x844d3c63a9396cdc14c9ff62b65bd59a6377ccb2584bbdee7dc6eadccc514bc3', 'from': '0x41d68726a1be12fedcfeb25c7ff72f555e65dc3c', 'contractAddress': '0x9a47fb648c2d7c0c45b67db946b1af199055ef87', 'to': '0x874f5b8cc54ead6738a7bc3af7c16790808ffda9', 'tokenID': '4', 'tokenName': 'The 52', 'tokenSymbol': '52', 'tokenDecimal': '0', 'transactionIndex': '77', 'gas': '348095', 'gasPrice': '65768192130', 'gasUsed': '253224', 'cumulativeGasUsed': '5110018', 'input': 'deprecated', 'confirmations': '99826'}]\n"
     ]
    },
    {
     "data": {
      "text/plain": [
       "([], [])"
      ]
     },
     "execution_count": 9,
     "metadata": {},
     "output_type": "execute_result"
    }
   ],
   "source": [
    "get_address(\"0x41D68726a1be12FEdcfeB25c7FF72f555E65dC3c\")"
   ]
  },
  {
   "cell_type": "code",
   "execution_count": 4,
   "id": "e6bca4ae",
   "metadata": {},
   "outputs": [
    {
     "ename": "ModuleNotFoundError",
     "evalue": "No module named 'dblayer'",
     "output_type": "error",
     "traceback": [
      "\u001b[1;31m---------------------------------------------------------------------------\u001b[0m",
      "\u001b[1;31mModuleNotFoundError\u001b[0m                       Traceback (most recent call last)",
      "\u001b[1;32m<ipython-input-4-e99737e9495b>\u001b[0m in \u001b[0;36m<module>\u001b[1;34m\u001b[0m\n\u001b[0;32m      6\u001b[0m \u001b[1;33m\u001b[0m\u001b[0m\n\u001b[0;32m      7\u001b[0m \u001b[1;32mfrom\u001b[0m \u001b[0mrandom\u001b[0m \u001b[1;32mimport\u001b[0m \u001b[0mrandrange\u001b[0m\u001b[1;33m\u001b[0m\u001b[1;33m\u001b[0m\u001b[0m\n\u001b[1;32m----> 8\u001b[1;33m \u001b[1;32mfrom\u001b[0m \u001b[0mdblayer\u001b[0m \u001b[1;32mimport\u001b[0m \u001b[1;33m*\u001b[0m\u001b[1;33m\u001b[0m\u001b[1;33m\u001b[0m\u001b[0m\n\u001b[0m\u001b[0;32m      9\u001b[0m \u001b[1;33m\u001b[0m\u001b[0m\n\u001b[0;32m     10\u001b[0m \u001b[1;33m\u001b[0m\u001b[0m\n",
      "\u001b[1;31mModuleNotFoundError\u001b[0m: No module named 'dblayer'"
     ]
    }
   ],
   "source": [
    "\n",
    "from dblayer import *\n",
    "\n",
    "\n",
    "\n",
    "\n",
    "\n",
    "# helper for get_random_address\n",
    "def fetch_random():\n",
    "\n",
    "    df = pd.read_csv('data.csv')\n",
    "    df = df.values.tolist()\n",
    "    row = df[randrange(len(df))]\n",
    "    owner = row[0]\n",
    "    address = row[1]\n",
    "    print(\"1\", address, len(address), owner)\n",
    "    return address, owner\n",
    "\n",
    "# fetches a random address from file of known addresses\n",
    "def get_random_address():\n",
    "    address, owner = fetch_random()\n",
    "    with open('key.json', mode='r') as key_file:\n",
    "        key = json.loads(key_file.read())['key']\n",
    "    api_url = \"https://api.etherscan.io/api?module=account&action=tokennfttx&address=\" + address + \"&startblock=0&endblock=999999999&sort=asc&apikey=\" + key\n",
    "    print(api_url)\n",
    "    x = requests.get(api_url)\n",
    "    print(x.json())\n",
    "    alltransactions = x.json().get(\"result\")\n",
    "    contracts = []\n",
    "    ids = []\n",
    "    for t in alltransactions:\n",
    "        if t.get(\"to\") == address:\n",
    "            # print(t)\n",
    "            contract_address = t.get(\"contractAddress\")\n",
    "            token_id = t.get(\"tokenID\")\n",
    "            # print(contract_address, token_id)\n",
    "            contracts.append(contract_address)\n",
    "            ids.append(int(token_id))\n",
    "    return contracts, ids, address, owner\n",
    "\n",
    "\n",
    "\n",
    "class NFTS(ObjectType):\n",
    "    uri = List(JSONString)\n",
    "    address = String()\n",
    "    images = List(String)\n",
    "    name = String()\n",
    "\n",
    "class Nulltype(ObjectType):\n",
    "    result = Boolean()\n",
    "\n",
    "class Query(ObjectType):\n",
    "    vp = List(NFTS, wa=String())\n",
    "    getglobalgallery = List(NFTS)\n",
    "    getlatestgallery = List(NFTS)\n",
    "    getusergallery = List(NFTS, wa=String())\n",
    "    globalnfts = List(NFTS)\n",
    "    random = List(NFTS)\n",
    "    addtoglobal = List(Boolean,  wa=String(), tkid=String())\n",
    "    addtousergallery = List(Boolean,  us=String(), wa=String(), tkid=String())\n",
    "    removefromusergallery = List(Boolean, us=String(), wa=String(), tkid=String())\n",
    "    def resolve_vp(self, info, wa):\n",
    "        contract_address, token_id = get_address(wa)\n",
    "        uri, image_links = get_uri(contract_address, token_id, wa)\n",
    "        stuff = {\"uri\": uri, \"address\": wa, \"images\": image_links, \"owner\": \"You\"}\n",
    "        return [stuff]\n",
    "\n",
    "    def resolve_random(self, info):\n",
    "\n",
    "        # contract_address, token_id, owner_address, owner = get_random_address()\n",
    "        contract_address, token_id = get_latest_opensea()\n",
    "        uri, image_links = get_uri(contract_address, token_id, \"\")\n",
    "\n",
    "        stuff = {\"uri\": uri, \"address\": \"\", \"images\": image_links, \"name\": \"\" }\n",
    "        return [stuff]\n",
    "\n",
    "\n",
    "    def resolve_getglobalgallery(self, info):\n",
    "\n",
    "        uri, image_links = get_global_gallery()\n",
    "        print(uri)\n",
    "        print(image_links)\n",
    "        stuff = {\"uri\": uri, \"address\": \"Global\", \"images\": image_links, \"owner\": \"Users\"}\n",
    "        return [stuff]\n",
    "\n",
    "    def resolve_getusergallery(self, info, wa):\n",
    "\n",
    "        uri, image_links = get_user_gallery(wa)\n",
    "        stuff = {\"uri\": uri, \"address\": wa, \"images\": image_links, \"owner\": wa}\n",
    "        return [stuff]\n",
    "    def resolve_addtoglobal(self, info, wa, tkid):\n",
    "        print(wa, tkid)\n",
    "        tkid = int(tkid)\n",
    "        create_nft(wa, tkid)\n",
    "        return [True]\n",
    "    def resolve_addtousergallery(self, info, us, wa, tkid):\n",
    "        print(us, wa, tkid)\n",
    "        tkid = int(tkid)\n",
    "        add_to_gallery(us, wa, tkid)\n",
    "        return [True]\n",
    "\n",
    "    def resolve_removefromusergallery(self, info, us, wa, tkid):\n",
    "        print(us, wa, tkid)\n",
    "        tkid = int(tkid)\n",
    "        remove_from_gallery(us, wa, tkid)\n",
    "        return [True]\n",
    "\n",
    "    def resolve_getlatestgallery(self, info):\n",
    "        uri, images = get_latest_gallery()\n",
    "        stuff = {\"uri\": uri, \"address\": \"Global\", \"images\": images, \"owner\": \"Users\"}\n",
    "        return [stuff]"
   ]
  },
  {
   "cell_type": "code",
   "execution_count": null,
   "id": "1872813e",
   "metadata": {},
   "outputs": [],
   "source": []
  }
 ],
 "metadata": {
  "kernelspec": {
   "display_name": "Python 3",
   "language": "python",
   "name": "python3"
  },
  "language_info": {
   "codemirror_mode": {
    "name": "ipython",
    "version": 3
   },
   "file_extension": ".py",
   "mimetype": "text/x-python",
   "name": "python",
   "nbconvert_exporter": "python",
   "pygments_lexer": "ipython3",
   "version": "3.8.8"
  }
 },
 "nbformat": 4,
 "nbformat_minor": 5
}
